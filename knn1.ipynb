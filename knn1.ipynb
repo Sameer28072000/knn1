{
 "cells": [
  {
   "cell_type": "markdown",
   "id": "426cf1d7-4386-444f-929e-a022aae2eee4",
   "metadata": {},
   "source": [
    "Q1. What is the KNN algorithm?"
   ]
  },
  {
   "cell_type": "code",
   "execution_count": null,
   "id": "ebcd4af7-d2a1-4162-a043-a6fa00ebb8ea",
   "metadata": {},
   "outputs": [],
   "source": [
    "Ans:-KNN algorithm is one of the simplest machine learning algorithm apart from other algorithm.\n",
    "     KNN algorithm solve both classification & regression problem.\n",
    "     KNN is called as K-nearest neighbors."
   ]
  },
  {
   "cell_type": "markdown",
   "id": "056ff870-8503-4a75-a50e-3eb62d45198a",
   "metadata": {},
   "source": [
    "Q2. How do you choose the value of K in KNN?"
   ]
  },
  {
   "cell_type": "code",
   "execution_count": null,
   "id": "7984b5f0-2126-4b70-b5c3-f0db293c2c01",
   "metadata": {},
   "outputs": [],
   "source": [
    "Ans:- \n",
    "      i.odd or eve"
   ]
  },
  {
   "cell_type": "markdown",
   "id": "476d4268-fde8-4141-b689-4b870e75b2f5",
   "metadata": {},
   "source": [
    "Q3. What is the difference between KNN classifier and KNN regressor?"
   ]
  },
  {
   "cell_type": "code",
   "execution_count": null,
   "id": "fc31f02a-942b-403b-a9e4-9a85a4cfbcc7",
   "metadata": {},
   "outputs": [],
   "source": [
    "Ans:- KNN classifier is used for classification problem.\n",
    "      The target variable should be category.It could be binary(0,1),multi-class.\n",
    "    \n",
    "       ex:-predict wether student is pass/fail\n",
    "        \n",
    "        KNN regressor is used for regressor problem.\n",
    "        The target variable should be continous.\n",
    "         \n",
    "            ex:-predict house prices."
   ]
  },
  {
   "cell_type": "markdown",
   "id": "38634c23-8371-4b7e-a4a7-794be64ab6ac",
   "metadata": {},
   "source": [
    "Q4. How do you measure the performance of KNN?"
   ]
  },
  {
   "cell_type": "code",
   "execution_count": null,
   "id": "3f5b0763-1076-4d88-b197-5e963b187c73",
   "metadata": {},
   "outputs": [],
   "source": [
    "Ans:- \n",
    "       For Classification:-\n",
    "        i.Accuracy\n",
    "          ii.confusion matrix\n",
    "            iii.precission\n",
    "              iv.recall\n",
    "                v.F1 score\n",
    "                \n",
    "                \n",
    "        For Regression:-\n",
    "          i.MAE(Mean Absolute Error)\n",
    "            ii.MSE(Mean Squared Error)\n",
    "              iii.RSME(Root Mean Squared Error)\n",
    "                iv.R-squared"
   ]
  },
  {
   "cell_type": "markdown",
   "id": "53f5bb79-6fc1-46bf-b143-7f090ddb86f1",
   "metadata": {},
   "source": [
    "Q5. What is the curse of dimensionality in KNN?"
   ]
  },
  {
   "cell_type": "code",
   "execution_count": null,
   "id": "b0027e54-ce62-42f8-968d-6839d6436b17",
   "metadata": {},
   "outputs": [],
   "source": [
    "Ans:- \n",
    "      i.Increased sparsity\n",
    "       ii.Increased complexity\n",
    "        iii.overfitting\n",
    "          iv.curse of nearest neighbors"
   ]
  },
  {
   "cell_type": "markdown",
   "id": "830c07bc-01ad-44eb-9bf2-de092cb490d3",
   "metadata": {},
   "source": [
    "Q6. How do you handle missing values in KNN?"
   ]
  },
  {
   "cell_type": "code",
   "execution_count": null,
   "id": "d55abe46-6019-4279-898f-61fd50386bf6",
   "metadata": {},
   "outputs": [],
   "source": [
    "Ans:-\n",
    "      i.Deletion\n",
    "       ii.imputation\n",
    "         iii.regression imputation\n",
    "            iv.multiple imputation"
   ]
  },
  {
   "cell_type": "markdown",
   "id": "28693be7-e86d-4ce1-994e-374c8ab567e7",
   "metadata": {},
   "source": [
    "Q7. Compare and contrast the performance of the KNN classifier and regressor. Which one is better for\n",
    "which type of problem?"
   ]
  },
  {
   "cell_type": "code",
   "execution_count": null,
   "id": "9400667f-83b0-4c6d-b815-5b36cfdfa469",
   "metadata": {},
   "outputs": [],
   "source": [
    "Ans:-Depends on the nature of the problem if you want to predict output of KNN classifier & regresson.\n",
    "     KNN classifier & regressor:-\n",
    "      i.performance\n",
    "        ii.strength\n",
    "          iii.weakness"
   ]
  },
  {
   "cell_type": "markdown",
   "id": "e5f05b87-f384-48f5-b91c-0b2ea31f49ce",
   "metadata": {},
   "source": [
    "Q8. What are the strengths and weaknesses of the KNN algorithm for classification and regression tasks,\n",
    "and how can these be addressed?"
   ]
  },
  {
   "cell_type": "code",
   "execution_count": null,
   "id": "d5ac3f88-f5ab-4d73-a8e1-876672045e1d",
   "metadata": {},
   "outputs": [],
   "source": [
    "Ans:- KNN classifier:-\n",
    "         strength:-\n",
    "           i.handle imbalanced data\n",
    "            ii.work well with non-linear\n",
    "        weakness:-\n",
    "           i.sensitive to irrelavant attributr\n",
    "            ii.expensive\n",
    "            \n",
    "        KNN regressor:-\n",
    "          strength:-\n",
    "            i.robust to outlier\n",
    "              ii.complex relationship feature & target variable\n",
    "            weakness:-\n",
    "              i.expensive\n",
    "                ii.handle of missing values"
   ]
  },
  {
   "cell_type": "markdown",
   "id": "c8e3ba99-904f-4be5-bc66-160d637bd67b",
   "metadata": {},
   "source": [
    "Q9. What is the difference between Euclidean distance and Manhattan distance in KNN?"
   ]
  },
  {
   "cell_type": "code",
   "execution_count": null,
   "id": "e203adbe-c355-4f42-b51f-4f890864fce7",
   "metadata": {},
   "outputs": [],
   "source": [
    "Ans:- Euclidean distance:-\n",
    "         Euclidean distance measure straight line of distance between two points.\n",
    "           Euclidean Distance = sqrt((x2 - x1)^2 + (y2 - y1)^2)\n",
    "        \n",
    "        Manhattan distance:-\n",
    "          Manhattan distance measure distance between two points by adding absolute diff. between feature values\n",
    "            Manhattan Distance = |x2 - x1| + |y2 - y1|"
   ]
  },
  {
   "cell_type": "markdown",
   "id": "d214e7ed-b4ee-4ae3-970b-79051ec8e049",
   "metadata": {},
   "source": [
    "Q10. What is the role of feature scaling in KNN?"
   ]
  },
  {
   "cell_type": "code",
   "execution_count": null,
   "id": "b0748ffc-9239-43ba-8de7-732c0ac0fa05",
   "metadata": {},
   "outputs": [],
   "source": [
    "Ans:- Feature scaling plays a crucial role in the K-nearest neighbors (KNN) algorithm.\n",
    "        i.MinMaxScaling\n",
    "         ii.Standardization\n",
    "           iii.other scaling technique\n",
    "    "
   ]
  }
 ],
 "metadata": {
  "kernelspec": {
   "display_name": "Python 3 (ipykernel)",
   "language": "python",
   "name": "python3"
  },
  "language_info": {
   "codemirror_mode": {
    "name": "ipython",
    "version": 3
   },
   "file_extension": ".py",
   "mimetype": "text/x-python",
   "name": "python",
   "nbconvert_exporter": "python",
   "pygments_lexer": "ipython3",
   "version": "3.10.8"
  }
 },
 "nbformat": 4,
 "nbformat_minor": 5
}
